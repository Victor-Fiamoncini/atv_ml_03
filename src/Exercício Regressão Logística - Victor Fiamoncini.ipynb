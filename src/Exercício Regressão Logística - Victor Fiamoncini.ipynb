{
 "cells": [
  {
   "cell_type": "markdown",
   "id": "2f82fc07",
   "metadata": {},
   "source": [
    "# Prevendo fraudes de cartão de crédito"
   ]
  },
  {
   "cell_type": "markdown",
   "id": "12e5fa5a",
   "metadata": {},
   "source": [
    "A fraude de cartão de crédito é uma das principais causas de roubo de identidade em todo o mundo. As instituições financeiras empregam uma grande variedade de técnicas diferentes para prevenir fraudes, sendo uma das mais comuns a Regressão Logística."
   ]
  },
  {
   "cell_type": "markdown",
   "id": "0472b45f",
   "metadata": {},
   "source": [
    "Neste projeto, você é um Cientista de Dados que trabalha para uma empresa de cartão de crédito. Você tem acesso a um conjunto de dados, que representa um conjunto típico de transações de cartão de crédito. Sua tarefa é usar a regressão logística e criar um modelo preditivo para determinar se uma transação é fraudulenta ou não."
   ]
  },
  {
   "cell_type": "code",
   "execution_count": 41,
   "id": "e8691c23",
   "metadata": {},
   "outputs": [],
   "source": [
    "import seaborn as sns\n",
    "import pandas as pd\n",
    "import numpy as np\n",
    "import matplotlib.pyplot as plt\n",
    "from sklearn.linear_model import LogisticRegression\n",
    "from sklearn.model_selection import train_test_split\n",
    "from sklearn.preprocessing import StandardScaler"
   ]
  },
  {
   "cell_type": "markdown",
   "id": "8369e89a",
   "metadata": {},
   "source": [
    "### Carregar os dados"
   ]
  },
  {
   "cell_type": "markdown",
   "id": "6bf047f7",
   "metadata": {},
   "source": [
    "**1.** O arquivo `Transações.csv` contém dados de 200 mil transações de cartão de crédito simuladas. Comece carregando os dados em um DataFrame pandas chamado `transacoes`. Imprima algumas linhas e a contagem total de linhas. "
   ]
  },
  {
   "cell_type": "code",
   "execution_count": 42,
   "id": "9580c03e",
   "metadata": {},
   "outputs": [
    {
     "data": {
      "text/html": [
       "<div>\n",
       "<style scoped>\n",
       "    .dataframe tbody tr th:only-of-type {\n",
       "        vertical-align: middle;\n",
       "    }\n",
       "\n",
       "    .dataframe tbody tr th {\n",
       "        vertical-align: top;\n",
       "    }\n",
       "\n",
       "    .dataframe thead th {\n",
       "        text-align: right;\n",
       "    }\n",
       "</style>\n",
       "<table border=\"1\" class=\"dataframe\">\n",
       "  <thead>\n",
       "    <tr style=\"text-align: right;\">\n",
       "      <th></th>\n",
       "      <th>step</th>\n",
       "      <th>type</th>\n",
       "      <th>amount</th>\n",
       "      <th>nameOrig</th>\n",
       "      <th>oldbalanceOrg</th>\n",
       "      <th>newbalanceOrig</th>\n",
       "      <th>nameDest</th>\n",
       "      <th>oldbalanceDest</th>\n",
       "      <th>newbalanceDest</th>\n",
       "      <th>isFraud</th>\n",
       "    </tr>\n",
       "  </thead>\n",
       "  <tbody>\n",
       "    <tr>\n",
       "      <th>0</th>\n",
       "      <td>8</td>\n",
       "      <td>CASH_OUT</td>\n",
       "      <td>158007.12</td>\n",
       "      <td>C424875646</td>\n",
       "      <td>0.00</td>\n",
       "      <td>0.00</td>\n",
       "      <td>C1298177219</td>\n",
       "      <td>474016.32</td>\n",
       "      <td>1618631.97</td>\n",
       "      <td>0</td>\n",
       "    </tr>\n",
       "    <tr>\n",
       "      <th>1</th>\n",
       "      <td>236</td>\n",
       "      <td>CASH_OUT</td>\n",
       "      <td>457948.30</td>\n",
       "      <td>C1342616552</td>\n",
       "      <td>0.00</td>\n",
       "      <td>0.00</td>\n",
       "      <td>C1323169990</td>\n",
       "      <td>2720411.37</td>\n",
       "      <td>3178359.67</td>\n",
       "      <td>0</td>\n",
       "    </tr>\n",
       "    <tr>\n",
       "      <th>2</th>\n",
       "      <td>37</td>\n",
       "      <td>CASH_IN</td>\n",
       "      <td>153602.99</td>\n",
       "      <td>C900876541</td>\n",
       "      <td>11160428.67</td>\n",
       "      <td>11314031.67</td>\n",
       "      <td>C608741097</td>\n",
       "      <td>3274930.56</td>\n",
       "      <td>3121327.56</td>\n",
       "      <td>0</td>\n",
       "    </tr>\n",
       "    <tr>\n",
       "      <th>3</th>\n",
       "      <td>331</td>\n",
       "      <td>CASH_OUT</td>\n",
       "      <td>49555.14</td>\n",
       "      <td>C177696810</td>\n",
       "      <td>10865.00</td>\n",
       "      <td>0.00</td>\n",
       "      <td>C462716348</td>\n",
       "      <td>0.00</td>\n",
       "      <td>49555.14</td>\n",
       "      <td>0</td>\n",
       "    </tr>\n",
       "    <tr>\n",
       "      <th>4</th>\n",
       "      <td>250</td>\n",
       "      <td>CASH_OUT</td>\n",
       "      <td>29648.02</td>\n",
       "      <td>C788941490</td>\n",
       "      <td>0.00</td>\n",
       "      <td>0.00</td>\n",
       "      <td>C1971700992</td>\n",
       "      <td>56933.09</td>\n",
       "      <td>86581.10</td>\n",
       "      <td>0</td>\n",
       "    </tr>\n",
       "  </tbody>\n",
       "</table>\n",
       "</div>"
      ],
      "text/plain": [
       "   step      type     amount     nameOrig  oldbalanceOrg  newbalanceOrig  \\\n",
       "0     8  CASH_OUT  158007.12   C424875646           0.00            0.00   \n",
       "1   236  CASH_OUT  457948.30  C1342616552           0.00            0.00   \n",
       "2    37   CASH_IN  153602.99   C900876541    11160428.67     11314031.67   \n",
       "3   331  CASH_OUT   49555.14   C177696810       10865.00            0.00   \n",
       "4   250  CASH_OUT   29648.02   C788941490           0.00            0.00   \n",
       "\n",
       "      nameDest  oldbalanceDest  newbalanceDest  isFraud  \n",
       "0  C1298177219       474016.32      1618631.97        0  \n",
       "1  C1323169990      2720411.37      3178359.67        0  \n",
       "2   C608741097      3274930.56      3121327.56        0  \n",
       "3   C462716348            0.00        49555.14        0  \n",
       "4  C1971700992        56933.09        86581.10        0  "
      ]
     },
     "execution_count": 42,
     "metadata": {},
     "output_type": "execute_result"
    }
   ],
   "source": [
    "df = pd.read_csv('Transações.csv')\n",
    "df.head()"
   ]
  },
  {
   "cell_type": "markdown",
   "id": "9361fe15",
   "metadata": {},
   "source": [
    "### Limpe os dados"
   ]
  },
  {
   "cell_type": "markdown",
   "id": "af632c91",
   "metadata": {},
   "source": [
    "**2.** Olhando para o conjunto de dados, combinado com nosso conhecimento de transações de cartão de crédito em geral, podemos ver que existem algumas colunas interessantes para serem observadas. Sabemos que a coluna `amount`(quantia) de uma determinada transação será importante. Calcule estatísticas de resumo para esta coluna. Como é a distribuição?"
   ]
  },
  {
   "cell_type": "code",
   "execution_count": 43,
   "id": "745ad69d",
   "metadata": {},
   "outputs": [
    {
     "data": {
      "text/plain": [
       "count    1.999990e+05\n",
       "mean     1.802425e+05\n",
       "std      6.255482e+05\n",
       "min      0.000000e+00\n",
       "25%      1.338746e+04\n",
       "50%      7.426695e+04\n",
       "75%      2.086376e+05\n",
       "max      5.204280e+07\n",
       "Name: amount, dtype: float64"
      ]
     },
     "execution_count": 43,
     "metadata": {},
     "output_type": "execute_result"
    }
   ],
   "source": [
    "df['amount'].describe()"
   ]
  },
  {
   "cell_type": "markdown",
   "id": "3d1efe60",
   "metadata": {},
   "source": [
    "**3.** Temos muitas informações sobre o tipo (`type`) de transação que estamos analisando. Crie uma nova coluna chamada `é_Pagamento` que atribui um `1` quando `type` é “PAYMENT” ou “DEBIT” e `0` caso de outro tipo."
   ]
  },
  {
   "cell_type": "code",
   "execution_count": 44,
   "id": "e7b66939",
   "metadata": {},
   "outputs": [],
   "source": [
    "e_pagamento_cb = lambda type_value: 1 if type_value == 'PAYMENT' or type_value == 'DEBIT' else 0 \n",
    "\n",
    "df['é_Pagamento'] = df['type'].apply(e_pagamento_cb) "
   ]
  },
  {
   "cell_type": "markdown",
   "id": "6fc13d2c",
   "metadata": {},
   "source": [
    "**4.** Da mesma forma, crie uma coluna chamada `é_movimentação`, que capturará se o dinheiro saiu da conta de origem. Esta coluna terá um valor de 1 quando `type` for “CASH_OUT” ou “TRANSFER”, e 0 caso contrário."
   ]
  },
  {
   "cell_type": "code",
   "execution_count": 45,
   "id": "7356c49b",
   "metadata": {},
   "outputs": [],
   "source": [
    "e_movimentacao_cb = lambda type_value: 1 if type_value == 'CASH_OUT' or type_value == 'TRANSFER' else 0 \n",
    "\n",
    "df['é_movimentação'] = df['type'].apply(e_movimentacao_cb) "
   ]
  },
  {
   "cell_type": "markdown",
   "id": "955240ab",
   "metadata": {},
   "source": [
    "**5.** Em fraudes financeiras, outro fator fundamental a ser investigado seria a diferença de valor entre a conta de origem e a conta de destino. A hipótese, neste caso, é que contas de destino com valor significativamente diferente podem ser suspeitas de fraude. Vamos criar uma coluna chamada `diferençaContas` com a diferença absoluta das colunas `oldbalanceOrge` e `oldbalanceDest`"
   ]
  },
  {
   "cell_type": "code",
   "execution_count": 46,
   "id": "76b8fd11",
   "metadata": {},
   "outputs": [],
   "source": [
    "df['diferençaContas'] = abs(df['oldbalanceOrg'] - df['oldbalanceDest'])"
   ]
  },
  {
   "cell_type": "markdown",
   "id": "bd0ce9ed",
   "metadata": {},
   "source": [
    "### Selecionar e dividir os dados"
   ]
  },
  {
   "cell_type": "markdown",
   "id": "38af3d07",
   "metadata": {},
   "source": [
    "**6.** Antes de começarmos a treinar nosso modelo, precisamos definir nossos recursos (variáveis de entrada) e a coluna que será a saída. A saída neste conjunto de dados é a coluna `isFraud`. Crie uma variável chamada `x` que será um array composto pelos seguintes campos:\n",
    "\n",
    "- `amount`\n",
    "- `é_Pagamento`\n",
    "- `é_movimentação`\n",
    "- `diferençaContas`\n",
    "\n",
    "Crie também uma variável chamada `y` com a coluna `isFraud`."
   ]
  },
  {
   "cell_type": "code",
   "execution_count": 47,
   "id": "bb07b57c",
   "metadata": {},
   "outputs": [],
   "source": [
    "x = df[['amount', 'é_Pagamento', 'é_movimentação', 'diferençaContas']]\n",
    "y = df['isFraud']"
   ]
  },
  {
   "cell_type": "markdown",
   "id": "f7326a24",
   "metadata": {},
   "source": [
    "**7.** Divida os dados em conjuntos de treinamento e teste usando o método `train_test_split()` do `sklearn`. Usaremos o conjunto de treinamento para treinar o modelo e o conjunto de teste para avaliar o modelo. Use um `test_size` de 0.3."
   ]
  },
  {
   "cell_type": "code",
   "execution_count": 48,
   "id": "39e74854",
   "metadata": {},
   "outputs": [],
   "source": [
    "x_train, x_test, y_train, y_test = train_test_split(x, y, test_size=0.3)"
   ]
  },
  {
   "cell_type": "markdown",
   "id": "e1a596c1",
   "metadata": {},
   "source": [
    "### Normalize os dados"
   ]
  },
  {
   "cell_type": "markdown",
   "id": "53f5e488",
   "metadata": {},
   "source": [
    "**8.** No `sklearn` a implementação da regressão logística utiliza regularização e portanto precisamos dimencionar nossas variáveis de entrada. Crie um objeto `StandardScaler` , Utilize `.fit_transform()` nas variáveis de entrada do conjunto de treinamento e `.transform()` nas variáveis de entrada do conjunto de de teste."
   ]
  },
  {
   "cell_type": "code",
   "execution_count": 49,
   "id": "f5f93b0f",
   "metadata": {},
   "outputs": [],
   "source": [
    "ss = StandardScaler()\n",
    "\n",
    "x_train = ss.fit_transform(X=x_train)\n",
    "x_test = ss.transform(X=x_test)"
   ]
  },
  {
   "cell_type": "markdown",
   "id": "d9f0b7cc",
   "metadata": {},
   "source": [
    "### Criar e avaliar o modelo"
   ]
  },
  {
   "cell_type": "markdown",
   "id": "f1c1abde",
   "metadata": {},
   "source": [
    "**9.** Crie um modelo de regressão logística no `sklearn`."
   ]
  },
  {
   "cell_type": "code",
   "execution_count": 50,
   "id": "f3049b89",
   "metadata": {},
   "outputs": [],
   "source": [
    "lr_model = LogisticRegression()\n",
    "lr_model.fit(X=x_train, y=y_train.values.ravel());"
   ]
  },
  {
   "cell_type": "markdown",
   "id": "2b679e67",
   "metadata": {},
   "source": [
    "**10.** Execute o método `.score()` do modelo nos dados de treinamento e imprima a pontuação de treinamento.\n",
    "\n",
    "A pontuação do modelo nos dados de treinamento processará os dados de treinamento por meio do modelo treinado e preverá quais transações são fraudulentas. A pontuação retornada é a porcentagem de classificações corretas ou a precisão."
   ]
  },
  {
   "cell_type": "code",
   "execution_count": 51,
   "id": "0bd032c6",
   "metadata": {},
   "outputs": [
    {
     "data": {
      "text/plain": [
       "0.9985642754591104"
      ]
     },
     "execution_count": 51,
     "metadata": {},
     "output_type": "execute_result"
    }
   ],
   "source": [
    "lr_model.score(X=x_train, y=y_train)"
   ]
  },
  {
   "cell_type": "markdown",
   "id": "9bf952de",
   "metadata": {},
   "source": [
    "**11.** Imprima a matriz de confusão do modelo utilizando os dados do conjunto de teste."
   ]
  },
  {
   "cell_type": "code",
   "execution_count": 52,
   "id": "ee0d7f28",
   "metadata": {},
   "outputs": [
    {
     "data": {
      "image/png": "[encoded data removed]",
      "text/plain": [
       "<Figure size 640x480 with 2 Axes>"
      ]
     },
     "metadata": {},
     "output_type": "display_data"
    }
   ],
   "source": [
    "from sklearn.metrics import ConfusionMatrixDisplay, confusion_matrix\n",
    "\n",
    "lr_model_predictions = lr_model.predict(X=x_test)\n",
    "\n",
    "cm = confusion_matrix(y_test, lr_model_predictions)\n",
    "cm_display = ConfusionMatrixDisplay(confusion_matrix=cm, display_labels=['É fraudulenta', 'Não é fraudulenta'])\n",
    "cm_display.plot()\n",
    "plt.show()"
   ]
  },
  {
   "cell_type": "markdown",
   "id": "04d3353f",
   "metadata": {},
   "source": [
    "**12.** Execute o método `.score()` do modelo nos dados de teste e imprima a pontuação do teste.\n",
    "\n",
    "A pontuação do modelo nos dados de teste processará os dados de teste por meio do modelo treinado e preverá quais transações são fraudulentas. A pontuação retornada é a porcentagem de classificações corretas, ou a precisão, e será um indicador do sucesso do seu modelo."
   ]
  },
  {
   "cell_type": "code",
   "execution_count": 53,
   "id": "ffceff77",
   "metadata": {},
   "outputs": [
    {
     "data": {
      "text/plain": [
       "0.9985666666666667"
      ]
     },
     "execution_count": 53,
     "metadata": {},
     "output_type": "execute_result"
    }
   ],
   "source": [
    "lr_model.score(X=x_test, y=y_test)"
   ]
  },
  {
   "cell_type": "markdown",
   "id": "7789b298",
   "metadata": {},
   "source": [
    "**13.** Imprima os coeficientes do modelo para ver a importância de cada variável para a previsão. Qual característica foi mais importante? Menos importante?"
   ]
  },
  {
   "cell_type": "code",
   "execution_count": 58,
   "id": "d887cf44",
   "metadata": {},
   "outputs": [
    {
     "name": "stdout",
     "output_type": "stream",
     "text": [
      "Index(['amount', 'é_Pagamento', 'é_movimentação', 'diferençaContas'], dtype='object') [[ 0.22228412 -0.73217298  2.26531073 -0.60814374]]\n"
     ]
    },
    {
     "data": {
      "text/plain": [
       "' A coluna com mais relevância positiva foi a \"é_movimentação\" e a coluna com mais relevância negativa \"é_Pagamento\" '"
      ]
     },
     "execution_count": 58,
     "metadata": {},
     "output_type": "execute_result"
    }
   ],
   "source": [
    "print(x.columns, lr_model.coef_)\n",
    "\n",
    "''' A coluna com mais relevância positiva foi a \"é_movimentação\" e a coluna com mais relevância negativa \"é_Pagamento\" '''"
   ]
  },
  {
   "cell_type": "markdown",
   "id": "fa15629d",
   "metadata": {},
   "source": [
    "**14.** Vamos usar o modelo criado para processar mais transações que passaram por nossos sistemas. Existem três matrizes numpy abaixo com uma amostra com informações sobre novas transações “Novos dados de transação”\n",
    "\n",
    "Crie uma quarta matriz, `minha_transacao` e adicione qualquer informação de transação que desejar. Certifique-se de inserir todos os valores como `floats`."
   ]
  },
  {
   "cell_type": "code",
   "execution_count": 61,
   "id": "3f855a55",
   "metadata": {},
   "outputs": [],
   "source": [
    "# Novos dados de transação\n",
    "\n",
    "transacao1 = np.array([123456.78, 0.0, 1.0, 54670.1])\n",
    "transacao2 = np.array([98765.43, 1.0, 0.0, 8524.75])\n",
    "transacao3 = np.array([543678.31, 1.0, 0.0, 510025.5])\n",
    "\n",
    "# Crie dados de uma nova transação\n",
    "minha_transacao = np.array([77799.0, 0.0, 1000.0, 8000.0])"
   ]
  },
  {
   "cell_type": "markdown",
   "id": "443a7eb0",
   "metadata": {},
   "source": [
    "**15.** Combine as novas transações e a matriz que você criou (`minha_transacao`) em uma única matriz numpy chamada `conjunto_transacoes`."
   ]
  },
  {
   "cell_type": "code",
   "execution_count": 73,
   "id": "005ed741",
   "metadata": {},
   "outputs": [
    {
     "data": {
      "text/plain": [
       "array([[1.2345678e+05, 0.0000000e+00, 1.0000000e+00, 5.4670100e+04],\n",
       "       [9.8765430e+04, 1.0000000e+00, 0.0000000e+00, 8.5247500e+03],\n",
       "       [5.4367831e+05, 1.0000000e+00, 0.0000000e+00, 5.1002550e+05],\n",
       "       [7.7799000e+04, 0.0000000e+00, 1.0000000e+03, 8.0000000e+03]])"
      ]
     },
     "execution_count": 73,
     "metadata": {},
     "output_type": "execute_result"
    }
   ],
   "source": [
    "conjunto_transacoes = np.array([transacao1, transacao2, transacao3, minha_transacao])\n",
    "conjunto_transacoes"
   ]
  },
  {
   "cell_type": "markdown",
   "id": "b654e758",
   "metadata": {},
   "source": [
    "**16.** Como o modelo de regressão logística foi treinado com dados padronizados, também devemos patronizar os dados sobre os quais estamos fazendo previsões. Usando o objeto `StandardScaler`  criado anteriormente, aplique o método `.transform()` na matriz `conjunto_transacoes` e salve o resultado em `conjunto_transacoes`."
   ]
  },
  {
   "cell_type": "code",
   "execution_count": 74,
   "id": "23ba9f26",
   "metadata": {},
   "outputs": [
    {
     "name": "stderr",
     "output_type": "stream",
     "text": [
      "/home/victor/.local/lib/python3.8/site-packages/sklearn/base.py:450: UserWarning: X does not have valid feature names, but StandardScaler was fitted with feature names\n",
      "  warnings.warn(\n"
     ]
    }
   ],
   "source": [
    "conjunto_transacoes = ss.transform(conjunto_transacoes)"
   ]
  },
  {
   "cell_type": "markdown",
   "id": "49ada6c9",
   "metadata": {},
   "source": [
    "**17.** Quais transações são fraudulentas? Use o método `.predict()` do seu modelo na matriz `conjunto_transacoes` e imprima o resultado para descobrir.\n",
    "\n",
    "Quer ver as probabilidades que levaram a essas previsões? Chame o método `.predict_proba()` do seu modelo e imprima o resultado. A 1ª coluna é a probabilidade de uma transação não ser fraudulenta e a 2ª coluna é a probabilidade de uma transação ser fraudulenta (que foi calculada pelo modelo para tomar a decisão final de classificação)."
   ]
  },
  {
   "cell_type": "code",
   "execution_count": 80,
   "id": "823b6e11",
   "metadata": {},
   "outputs": [
    {
     "data": {
      "text/plain": [
       "array([[9.96588518e-01, 3.41148231e-03],\n",
       "       [9.99992409e-01, 7.59139351e-06],\n",
       "       [9.99991739e-01, 8.26136308e-06],\n",
       "       [0.00000000e+00, 1.00000000e+00]])"
      ]
     },
     "execution_count": 80,
     "metadata": {},
     "output_type": "execute_result"
    }
   ],
   "source": [
    "lr_model_predictions = lr_model.predict(X=conjunto_transacoes)\n",
    "lr_model_proba = lr_model.predict_proba(X=conjunto_transacoes)\n",
    "\n",
    "lr_model_proba"
   ]
  }
 ],
 "metadata": {
  "kernelspec": {
   "display_name": "Python 3.8.10 64-bit",
   "language": "python",
   "name": "python3"
  },
  "language_info": {
   "codemirror_mode": {
    "name": "ipython",
    "version": 3
   },
   "file_extension": ".py",
   "mimetype": "text/x-python",
   "name": "python",
   "nbconvert_exporter": "python",
   "pygments_lexer": "ipython3",
   "version": "3.8.10"
  },
  "vscode": {
   "interpreter": {
    "hash": "916dbcbb3f70747c44a77c7bcd40155683ae19c65e1c03b4aa3499c5328201f1"
   }
  }
 },
 "nbformat": 4,
 "nbformat_minor": 5
}
